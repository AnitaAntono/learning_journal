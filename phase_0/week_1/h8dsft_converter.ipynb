{
 "cells": [
  {
   "cell_type": "markdown",
   "metadata": {},
   "source": [
    "<h1>Kelvin ke Celcius dan Celcius ke Kelvin<h1>"
   ]
  },
  {
   "cell_type": "code",
   "execution_count": 23,
   "metadata": {},
   "outputs": [
    {
     "name": "stdout",
     "output_type": "stream",
     "text": [
      "20 Kelvin = -253.14999999999998 Celsius\n",
      "10 Celsius = 283.15 Kelvin\n"
     ]
    }
   ],
   "source": [
    "def convert(kelv, cels):\n",
    "  '''Function untuk meng-convert kelvin ke celsius dan sebaliknya'''\n",
    "  hasilCels = kelv - 273.15\n",
    "  hasilKelv = cels + 273.15\n",
    "  print(f\"{kelv} Kelvin = {hasilCels} Celsius\")\n",
    "  print(f\"{cels} Celsius = {hasilKelv} Kelvin\")\n",
    "convert(20, 10)"
   ]
  },
  {
   "cell_type": "markdown",
   "metadata": {},
   "source": [
    "<h1> Function untuk meng-convert Celsius / Kelvin --> Fahrenheit </h1>"
   ]
  },
  {
   "cell_type": "code",
   "execution_count": 24,
   "metadata": {},
   "outputs": [
    {
     "name": "stdout",
     "output_type": "stream",
     "text": [
      "ini adalah hasil dari Celsius ke Fahrenheit 68.0, ini adalah hasil dari Kelvin ke Fahrenheit -369.66999999999996\n"
     ]
    }
   ],
   "source": [
    "# Function untuk mengconvert cels / kelvin -> fahrenheit\n",
    "def convert(cels,kelv):\n",
    "    '''Function untuk meng-convert Celsius / Kelvin --> Fahrenheit'''\n",
    "    fahr1 = (cels * 9/5) + 32\n",
    "    fahr2 = (kelv - 273.15) * 1.8 + 32\n",
    "    return f\"ini adalah hasil dari Celsius ke Fahrenheit {fahr1}, ini adalah hasil dari Kelvin ke Fahrenheit {fahr2}\"\n",
    "\n",
    "print(convert(20,50))"
   ]
  },
  {
   "cell_type": "markdown",
   "metadata": {},
   "source": [
    "<h1> Function untuk meng-convert Fahrenheit --> Celsius dan Kelvin </h1>"
   ]
  },
  {
   "cell_type": "code",
   "execution_count": 20,
   "metadata": {},
   "outputs": [
    {
     "name": "stdout",
     "output_type": "stream",
     "text": [
      "ini adalah Celcius 0.0 , ini adalah Kelvin 273.15\n"
     ]
    }
   ],
   "source": [
    "# Function untuk mengconvert fahrenheit -> cels & kelv\n",
    "def convert(fahr):\n",
    "    cels = (fahr - 32) * 5/9\n",
    "    kelv = (fahr - 32) * 5/9 + 273.15\n",
    "    return f\"ini adalah Celcius {cels} , ini adalah Kelvin {kelv}\"\n",
    "\n",
    "print(convert(32))"
   ]
  }
 ],
 "metadata": {
  "interpreter": {
   "hash": "9bf2ca0f4a7adc3ce2f237ca763c1538d3ef289a4e7face3612a01cdae9f6807"
  },
  "kernelspec": {
   "display_name": "Python 3 (ipykernel)",
   "language": "python",
   "name": "python3"
  },
  "language_info": {
   "codemirror_mode": {
    "name": "ipython",
    "version": 3
   },
   "file_extension": ".py",
   "mimetype": "text/x-python",
   "name": "python",
   "nbconvert_exporter": "python",
   "pygments_lexer": "ipython3",
   "version": "3.9.7"
  }
 },
 "nbformat": 4,
 "nbformat_minor": 2
}
