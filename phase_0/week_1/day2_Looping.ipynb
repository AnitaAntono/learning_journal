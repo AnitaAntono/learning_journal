{
 "cells": [
  {
   "cell_type": "code",
   "execution_count": 10,
   "metadata": {},
   "outputs": [
    {
     "data": {
      "text/plain": [
       "15"
      ]
     },
     "execution_count": 10,
     "metadata": {},
     "output_type": "execute_result"
    }
   ],
   "source": [
    "angka = 15\n",
    "angka"
   ]
  },
  {
   "cell_type": "code",
   "execution_count": 6,
   "metadata": {},
   "outputs": [
    {
     "data": {
      "text/plain": [
       "False"
      ]
     },
     "execution_count": 6,
     "metadata": {},
     "output_type": "execute_result"
    }
   ],
   "source": [
    "5 == 5 # = Assignment\n",
    "5 == 10  # == Comparison / perbandingan"
   ]
  },
  {
   "cell_type": "code",
   "execution_count": 8,
   "metadata": {},
   "outputs": [
    {
     "data": {
      "text/plain": [
       "True"
      ]
     },
     "execution_count": 8,
     "metadata": {},
     "output_type": "execute_result"
    }
   ],
   "source": [
    "angka == 5"
   ]
  },
  {
   "cell_type": "code",
   "execution_count": 11,
   "metadata": {},
   "outputs": [
    {
     "name": "stdout",
     "output_type": "stream",
     "text": [
      "12 lebih besar dari 10\n"
     ]
    }
   ],
   "source": [
    "angka = 12                                       # if <kondisi>:\n",
    "print(f\"{angka} lebih besar dari 10\")"
   ]
  },
  {
   "cell_type": "code",
   "execution_count": 15,
   "metadata": {},
   "outputs": [],
   "source": [
    "angka = 9           #print yg menjorok disebut \"Indentation\"\n",
    "if angka > 10:\n",
    "    print(f\"{angka} lebih besar dari 10\")      "
   ]
  },
  {
   "cell_type": "code",
   "execution_count": null,
   "metadata": {},
   "outputs": [],
   "source": [
    "angka = 9\n",
    "if angka > 10:\n",
    "    print(f\"{angka} lebih besar dari 10\") \n",
    "    print(\"ini masih di dalam kondisi if\")\n",
    "else:\n",
    "    print(f\"{angka} lebih kecil dari 10\")\n",
    "print(\"ini diluar if\")"
   ]
  },
  {
   "cell_type": "markdown",
   "metadata": {},
   "source": [
    "9 lebih kecil dari 10\n",
    "ini diluar if."
   ]
  },
  {
   "cell_type": "markdown",
   "metadata": {},
   "source": [
    "Looping"
   ]
  },
  {
   "cell_type": "code",
   "execution_count": 17,
   "metadata": {},
   "outputs": [
    {
     "name": "stdout",
     "output_type": "stream",
     "text": [
      "Halo Anita, apa kabar?\n"
     ]
    }
   ],
   "source": [
    "print(\"Halo Anita, apa kabar?\")"
   ]
  },
  {
   "cell_type": "markdown",
   "metadata": {},
   "source": [
    "ada 2 loop; While loop & For loop\n",
    "\n",
    "While loop = Pola syntax nya sama dengan If\n",
    "- if <kondisi>:   \n",
    "- While <kondisi>:  #pastikan membuat kondisi yg akan berubah\n",
    "*infinite loop = \n",
    "\n",
    "(si kali itu harus ada di dalam while)\n",
    "\n",
    "-- List adalah tipe data majemuk yg bisa menyimpan beberapa data"
   ]
  },
  {
   "cell_type": "code",
   "execution_count": 18,
   "metadata": {},
   "outputs": [
    {
     "name": "stdout",
     "output_type": "stream",
     "text": [
      "kali : {kali}\n",
      "Halo Anita, apa kabar?\n",
      "kali : {kali}\n",
      "Halo Anita, apa kabar?\n",
      "kali : {kali}\n",
      "Halo Anita, apa kabar?\n",
      "kali : {kali}\n",
      "Halo Anita, apa kabar?\n",
      "kali : {kali}\n",
      "Halo Anita, apa kabar?\n"
     ]
    }
   ],
   "source": [
    "kali = 0\n",
    "while kali < 5:\n",
    "    print(\"kali : {kali}\")\n",
    "    print(\"Halo Anita, apa kabar?\")\n",
    "    kali = kali + 1"
   ]
  },
  {
   "cell_type": "code",
   "execution_count": 1,
   "metadata": {},
   "outputs": [
    {
     "name": "stdout",
     "output_type": "stream",
     "text": [
      "[]\n",
      "['babi']\n",
      "['babi', 'sop beruang']\n",
      "['babi', 'sop beruang', 'bakwan cicak']\n"
     ]
    }
   ],
   "source": [
    "list_makanan = []\n",
    "makanan = ''\n",
    "while makanan != 'cukup':\n",
    "     if makanan != '':\n",
    "       list_makanan.append(makanan)\n",
    "     makanan = input(\"masukan pesanan anda : \")\n",
    "     print(list_makanan)"
   ]
  },
  {
   "cell_type": "code",
   "execution_count": null,
   "metadata": {},
   "outputs": [
    {
     "name": "stdout",
     "output_type": "stream",
     "text": [
      "7 x 1 = 7\n",
      "7 x 1 = 14\n",
      "7 x 1 = 21\n"
     ]
    }
   ],
   "source": [
    "# Tabel perkalian \n",
    "print(f\"{7} x {1} = {7*1}\")\n",
    "print(f\"{7} x {1} = {7*2}\")\n",
    "print(f\"{7} x {1} = {7*3}\")\n"
   ]
  },
  {
   "cell_type": "code",
   "execution_count": null,
   "metadata": {},
   "outputs": [
    {
     "name": "stdout",
     "output_type": "stream",
     "text": [
      "7 x 1 = 7\n",
      "7 x 2 = 14\n",
      "7 x 3 = 21\n",
      "7 x 4 = 28\n",
      "7 x 5 = 35\n",
      "7 x 6 = 42\n",
      "7 x 7 = 49\n",
      "7 x 8 = 56\n",
      "7 x 9 = 63\n",
      "7 x 10 = 70\n"
     ]
    }
   ],
   "source": [
    "i = 1\n",
    "while i <= 10:\n",
    "    print(f\"{7} x {i} = {7*i}\")\n",
    "    # i = i + 1\n",
    "    i += 1"
   ]
  },
  {
   "cell_type": "code",
   "execution_count": 17,
   "metadata": {},
   "outputs": [
    {
     "name": "stdout",
     "output_type": "stream",
     "text": [
      "saya jual pepaya\n",
      "saya jual mangga\n",
      "saya jual pisang\n",
      "saya jual jambu\n"
     ]
    }
   ],
   "source": [
    "# for loop  ---- \n",
    "buahbuahan = [\"pepaya\", \"mangga\", \"pisang\", \"jambu\"]\n",
    "for item in buahbuahan:\n",
    "    print(f\"saya jual {item}\")\n"
   ]
  },
  {
   "cell_type": "markdown",
   "metadata": {},
   "source": [
    "Range (a,b,n)\n",
    "\n",
    "a = nilai awal  --> Inklusif\n",
    "b = nilai akhir  --> ekslusif\n",
    "n = step\n"
   ]
  },
  {
   "cell_type": "code",
   "execution_count": 18,
   "metadata": {},
   "outputs": [
    {
     "name": "stdout",
     "output_type": "stream",
     "text": [
      "7 x 1 = 7 \n",
      "7 x 2 = 14 \n",
      "7 x 3 = 21 \n",
      "7 x 4 = 28 \n",
      "7 x 5 = 35 \n",
      "7 x 6 = 42 \n",
      "7 x 7 = 49 \n",
      "7 x 8 = 56 \n",
      "7 x 9 = 63 \n",
      "7 x 10 = 70 \n"
     ]
    }
   ],
   "source": [
    "for i in (1,2,3,4,5,6,7,8,9,10):\n",
    "    print(f\"{7} x {i} = {7*i} \")"
   ]
  },
  {
   "cell_type": "code",
   "execution_count": 19,
   "metadata": {},
   "outputs": [
    {
     "data": {
      "text/plain": [
       "[1, 2, 3, 4, 5, 6, 7, 8, 9]"
      ]
     },
     "execution_count": 19,
     "metadata": {},
     "output_type": "execute_result"
    }
   ],
   "source": [
    "list(range (1, 10, 1))"
   ]
  },
  {
   "cell_type": "code",
   "execution_count": 27,
   "metadata": {},
   "outputs": [
    {
     "name": "stdout",
     "output_type": "stream",
     "text": [
      "7 x 1 = 7 \n",
      "7 x 2 = 14 \n",
      "7 x 3 = 21 \n",
      "7 x 4 = 28 \n",
      "7 x 5 = 35 \n",
      "7 x 6 = 42 \n"
     ]
    }
   ],
   "source": [
    "# special keyword : break\n",
    "for i in range(1, 11):\n",
    "    if i == 7:\n",
    "        break\n",
    "    print(f\"{7} x {i} = {7*i} \")"
   ]
  },
  {
   "cell_type": "code",
   "execution_count": 28,
   "metadata": {},
   "outputs": [
    {
     "name": "stdout",
     "output_type": "stream",
     "text": [
      "7 x 1 = 7 \n",
      "7 x 2 = 14 \n",
      "7 x 3 = 21 \n",
      "7 x 4 = 28 \n",
      "7 x 5 = 35 \n",
      "7 x 6 = 42 \n",
      "7 x 8 = 56 \n",
      "7 x 9 = 63 \n",
      "7 x 10 = 70 \n"
     ]
    }
   ],
   "source": [
    "# special keyword : continue\n",
    "for i in range(1, 11):\n",
    "    if i == 7:\n",
    "      continue\n",
    "    print(f\"{7} x {i} = {7*i} \")\n",
    "    i += 1"
   ]
  },
  {
   "cell_type": "code",
   "execution_count": 29,
   "metadata": {},
   "outputs": [
    {
     "data": {
      "text/plain": [
       "6"
      ]
     },
     "execution_count": 29,
     "metadata": {},
     "output_type": "execute_result"
    }
   ],
   "source": [
    "from random import randint\n",
    "randint(1, 10)"
   ]
  },
  {
   "cell_type": "code",
   "execution_count": 5,
   "metadata": {},
   "outputs": [
    {
     "data": {
      "text/plain": [
       "True"
      ]
     },
     "execution_count": 5,
     "metadata": {},
     "output_type": "execute_result"
    }
   ],
   "source": [
    "a = 8\n",
    "b = input(\"masukan angka : \")\n",
    "\n",
    "b = int(b)\n",
    "a == b "
   ]
  },
  {
   "cell_type": "code",
   "execution_count": 31,
   "metadata": {},
   "outputs": [
    {
     "data": {
      "text/plain": [
       "int"
      ]
     },
     "execution_count": 31,
     "metadata": {},
     "output_type": "execute_result"
    }
   ],
   "source": [
    "type(a)"
   ]
  },
  {
   "cell_type": "code",
   "execution_count": 32,
   "metadata": {},
   "outputs": [
    {
     "data": {
      "text/plain": [
       "str"
      ]
     },
     "execution_count": 32,
     "metadata": {},
     "output_type": "execute_result"
    }
   ],
   "source": [
    "type(b)"
   ]
  },
  {
   "cell_type": "code",
   "execution_count": 35,
   "metadata": {},
   "outputs": [
    {
     "name": "stdout",
     "output_type": "stream",
     "text": [
      "angka terlalu besar\n",
      "Selamat, anda menebak dengan benar\n",
      "angka komputer adalah 1\n"
     ]
    }
   ],
   "source": [
    "angka_komputer = randint(1, 10)\n",
    "angka_tebakan = 0\n",
    "while angka_tebakan != angka_komputer: \n",
    "    angka_tebakan = input(\"masukan tebakan anda : \")\n",
    "    angka_tebakan = int(angka_tebakan)\n",
    "    if angka_tebakan < angka_komputer:\n",
    "        print(\"angka terlalu kecil\")\n",
    "    elif angka_tebakan > angka_komputer:\n",
    "        print(\"angka terlalu besar\")\n",
    "    else:\n",
    "        print(\"Selamat, anda menebak dengan benar\")\n",
    "        print(f\"angka komputer adalah {angka_komputer}\")"
   ]
  },
  {
   "cell_type": "code",
   "execution_count": 40,
   "metadata": {},
   "outputs": [
    {
     "name": "stdout",
     "output_type": "stream",
     "text": [
      "angka terlalu kecil\n",
      "angka terlalu kecil\n",
      "angka terlalu kecil\n",
      "Kalau kalah, anda CUPU\n"
     ]
    }
   ],
   "source": [
    "angka_komputer = randint(1, 10)\n",
    "angka_tebakan = 0\n",
    "kesempatan = 3\n",
    "while angka_tebakan != angka_komputer and kesempatan > 0: \n",
    "    angka_tebakan = input(\"masukan tebakan anda : \")\n",
    "    angka_tebakan = int(angka_tebakan)\n",
    "    if angka_tebakan < angka_komputer:\n",
    "        print(\"angka terlalu kecil\")\n",
    "        kesempatan -= 1\n",
    "    elif angka_tebakan > angka_komputer:\n",
    "        print(\"angka terlalu besar\")\n",
    "        kesempatan -= 1\n",
    "    else:\n",
    "        print(\"Selamat, anda menebak dengan benar\")\n",
    "        print(f\"angka komputer adalah {angka_komputer}\")\n",
    "        print(f\"anda punya {kesempatan-1} kesempatan tersisa\")\n",
    "    if kesempatan == 0:\n",
    "        print(\"Kalau kalah, anda CUPU\")"
   ]
  }
 ],
 "metadata": {
  "interpreter": {
   "hash": "aee8b7b246df8f9039afb4144a1f6fd8d2ca17a180786b69acc140d282b71a49"
  },
  "kernelspec": {
   "display_name": "Python 3.10.1 64-bit",
   "language": "python",
   "name": "python3"
  },
  "language_info": {
   "codemirror_mode": {
    "name": "ipython",
    "version": 3
   },
   "file_extension": ".py",
   "mimetype": "text/x-python",
   "name": "python",
   "nbconvert_exporter": "python",
   "pygments_lexer": "ipython3",
   "version": "3.10.1"
  },
  "orig_nbformat": 4
 },
 "nbformat": 4,
 "nbformat_minor": 2
}
